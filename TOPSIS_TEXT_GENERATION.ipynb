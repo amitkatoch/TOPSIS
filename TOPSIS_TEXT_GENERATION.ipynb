{
  "nbformat": 4,
  "nbformat_minor": 0,
  "metadata": {
    "colab": {
      "provenance": [],
      "authorship_tag": "ABX9TyNDeIUZiDpkaf8Uh1/FoMyi",
      "include_colab_link": true
    },
    "kernelspec": {
      "name": "python3",
      "display_name": "Python 3"
    },
    "language_info": {
      "name": "python"
    }
  },
  "cells": [
    {
      "cell_type": "markdown",
      "metadata": {
        "id": "view-in-github",
        "colab_type": "text"
      },
      "source": [
        "<a href=\"https://colab.research.google.com/github/amitkatoch/TOPSIS/blob/main/TOPSIS_TEXT_GENERATION.ipynb\" target=\"_parent\"><img src=\"https://colab.research.google.com/assets/colab-badge.svg\" alt=\"Open In Colab\"/></a>"
      ]
    },
    {
      "cell_type": "markdown",
      "source": [
        "# Step 1: Define pretrained models and criteria"
      ],
      "metadata": {
        "id": "1RjB8TejnVws"
      }
    },
    {
      "cell_type": "code",
      "execution_count": 2,
      "metadata": {
        "id": "V3J5nDMGmJZy"
      },
      "outputs": [],
      "source": [
        "import numpy as np\n",
        "import pandas as pd\n",
        "import matplotlib.pyplot as plt\n",
        "\n",
        "#AMIT_KATOCH_102203451\n",
        "models = [\"GPT-4\", \"LLaMA 2\", \"Mistral\", \"Falcon\", \"Claude\"]\n",
        "criteria = [\"BLEU Score\", \"ROUGE Score\", \"Perplexity\", \"Response Time (ms)\"]\n",
        "weights = np.array([0.3, 0.3, 0.2, 0.2])  # Assigning weights\n"
      ]
    },
    {
      "cell_type": "markdown",
      "source": [
        "# Step 2: Sample performance data"
      ],
      "metadata": {
        "id": "CMDQIpFVnkfF"
      }
    },
    {
      "cell_type": "code",
      "source": [
        "\n",
        "performance_data = np.array([\n",
        "    [35, 40, 8, 200],  # GPT-4\n",
        "    [33, 38, 10, 180],  # LLaMA 2\n",
        "    [36, 42, 7, 190],  # Mistral\n",
        "    [30, 35, 12, 210],  # Falcon\n",
        "    [34, 39, 9, 195]   # Claude\n",
        "])\n",
        "#AMIT_KATOCH_102203451"
      ],
      "metadata": {
        "id": "pR_-nKgKnjp3"
      },
      "execution_count": 3,
      "outputs": []
    },
    {
      "cell_type": "markdown",
      "source": [
        "# Step 3: Normalize the dataset\n",
        "\n",
        "---\n",
        "# Adjust for beneficial and non-beneficial criteria (Perplexity & Response Time are non-beneficial)\n",
        "\n"
      ],
      "metadata": {
        "id": "mI1uURC-nzR5"
      }
    },
    {
      "cell_type": "code",
      "source": [
        "\n",
        "normalized_data = performance_data / np.sqrt((performance_data**2).sum(axis=0))\n",
        "#AMIT_KATOCH_102203451\n",
        "normalized_data[:, 2:] = 1 - normalized_data[:, 2:]"
      ],
      "metadata": {
        "id": "rrjmbMp8ntkg"
      },
      "execution_count": 4,
      "outputs": []
    },
    {
      "cell_type": "markdown",
      "source": [
        "# Step 4: Compute weighted normalized matrix\n",
        "# Step 5: Determine ideal and negative ideal solutions\n",
        "# Step 6: Compute distances from ideal and negative ideal solutions"
      ],
      "metadata": {
        "id": "Ql1ZASkPoA8b"
      }
    },
    {
      "cell_type": "code",
      "source": [
        "\n",
        "weighted_data = normalized_data * weights\n",
        "\n",
        "#AMIT_KATOCH_102203451\n",
        "ideal_solution = np.max(weighted_data, axis=0)\n",
        "negative_ideal_solution = np.min(weighted_data, axis=0)\n",
        "\n",
        "dist_ideal = np.sqrt(((weighted_data - ideal_solution) ** 2).sum(axis=1))\n",
        "dist_negative_ideal = np.sqrt(((weighted_data - negative_ideal_solution) ** 2).sum(axis=1))"
      ],
      "metadata": {
        "id": "VLO1-lt2oASB"
      },
      "execution_count": 5,
      "outputs": []
    },
    {
      "cell_type": "markdown",
      "source": [
        "# Step 7: Compute TOPSIS scores\n",
        "# Step 8: Rank models based on scores"
      ],
      "metadata": {
        "id": "lSYhzoz-oPwu"
      }
    },
    {
      "cell_type": "code",
      "source": [
        "\n",
        "topsis_scores = dist_negative_ideal / (dist_ideal + dist_negative_ideal)\n",
        "#AMIT_KATOCH_102203451\n",
        "\n",
        "rankings = np.argsort(topsis_scores)[::-1] + 1\n"
      ],
      "metadata": {
        "id": "UAKSt7jBoPYu"
      },
      "execution_count": 6,
      "outputs": []
    },
    {
      "cell_type": "markdown",
      "source": [
        "# Create a results DataFrame"
      ],
      "metadata": {
        "id": "rV9SMrQaoYnz"
      }
    },
    {
      "cell_type": "code",
      "source": [
        "\n",
        "results_df = pd.DataFrame({\n",
        "    \"Model\": models,\n",
        "    \"TOPSIS Score\": topsis_scores,\n",
        "    \"Rank\": rankings\n",
        "}).sort_values(by=\"Rank\")\n"
      ],
      "metadata": {
        "id": "bLa9arCeoYSH"
      },
      "execution_count": 7,
      "outputs": []
    },
    {
      "cell_type": "markdown",
      "source": [
        "# Step 9: Plot results"
      ],
      "metadata": {
        "id": "DUR6r_C9ogXV"
      }
    },
    {
      "cell_type": "code",
      "source": [
        "\n",
        "plt.figure(figsize=(8, 5))\n",
        "plt.bar(results_df[\"Model\"], results_df[\"TOPSIS Score\"], color=[\"blue\", \"green\", \"red\", \"purple\", \"orange\"])\n",
        "plt.xlabel(\"Model\")\n",
        "plt.ylabel(\"TOPSIS Score\")\n",
        "plt.title(\"TOPSIS Ranking of Pretrained Text Generation Models\")\n",
        "plt.ylim(0, 1)\n",
        "plt.show()\n",
        "#AMIT_KATOCH_102203451"
      ],
      "metadata": {
        "colab": {
          "base_uri": "https://localhost:8080/",
          "height": 487
        },
        "id": "aWrGmcp6oe0n",
        "outputId": "eb9527dc-90f9-470c-b1cc-76f1e8cc484e"
      },
      "execution_count": 8,
      "outputs": [
        {
          "output_type": "display_data",
          "data": {
            "text/plain": [
              "<Figure size 800x500 with 1 Axes>"
            ],
            "image/png": "[encoded data removed]"
          },
          "metadata": {}
        }
      ]
    },
    {
      "cell_type": "markdown",
      "source": [
        "# Save results as CSV\n",
        "# Display final rankings"
      ],
      "metadata": {
        "id": "Q_N4tS68omU0"
      }
    },
    {
      "cell_type": "code",
      "source": [
        "# Sort models by TOPSIS score in descending order\n",
        "results_df = results_df.sort_values(by=\"TOPSIS Score\", ascending=False)\n",
        "\n",
        "# Assign correct ranks\n",
        "results_df[\"Rank\"] = results_df[\"TOPSIS Score\"].rank(method=\"max\", ascending=False).astype(int)\n",
        "\n",
        "# Save and display results\n",
        "results_df.to_csv(\"topsis_results.csv\", index=False)\n",
        "print(\"Final TOPSIS Rankings:\")\n",
        "print(results_df)\n",
        "#AMIT_KATOCH_102203451\n"
      ],
      "metadata": {
        "colab": {
          "base_uri": "https://localhost:8080/"
        },
        "id": "UwnGGzsEolCw",
        "outputId": "a79df122-8cbf-4e32-f8b2-49d512875495"
      },
      "execution_count": 10,
      "outputs": [
        {
          "output_type": "stream",
          "name": "stdout",
          "text": [
            "Final TOPSIS Rankings:\n",
            "     Model  TOPSIS Score  Rank\n",
            "2  Mistral      0.928350     1\n",
            "0    GPT-4      0.751209     2\n",
            "4   Claude      0.600141     3\n",
            "1  LLaMA 2      0.454839     4\n",
            "3   Falcon      0.000000     5\n"
          ]
        }
      ]
    },
    {
      "cell_type": "markdown",
      "source": [],
      "metadata": {
        "id": "ve_iIlDEn_v0"
      }
    }
  ]
}